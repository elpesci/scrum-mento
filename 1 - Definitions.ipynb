{
 "cells": [
  {
   "cell_type": "markdown",
   "id": "4ace1326",
   "metadata": {},
   "source": [
    "# Scrum Framework Mentorship\n",
    "\n",
    "Scrum is the most widely used and popular ***agile framework***\n",
    "\n",
    "## Definitions\n",
    "\n",
    "### First things first: ***Agile***, what is it?\n",
    "> Agile is an iterative approach to project management and software development that helps teams deliver value to their customers faster and with fewer headaches. Instead of betting everything on a \"big bang\" launch, an agile team delivers work in small, but consumable, increments. Requirements, plans, and results are evaluated continuously so teams have a natural mechanism for responding to change quickly.\n",
    "\n",
    "Reference: [What is Agile?](https://www.atlassian.com/agile)\n",
    "\n",
    "### Framework: what is it?\n",
    "**Framework** : a system of rules, ideas, or beliefs that is used to plan, build or decide something.\n",
    "\n",
    "### Scrum definition according to *[Scrum Guides](https://scrumguides.org/)*\n",
    "Scrum  is  a lightweight  framework that  helps  people,  teams  and  organizations  generate  value  through adaptive  solutions  for  complex problems.\n",
    "\n",
    "Scrum  is  simple.  Try it  as is  and  determine  if  its  philosophy, theory, and  structure  help to  achieve  goals and create  value. The Scrum  framework is  purposefully incomplete,  only defining  the parts  required to implement  Scrum  theory. *Scrum  is  built  upon by the collective  intelligence  of  the people  using  it. Rather than provide people  with detailed  instructions, the rules  of  Scrum  guide their  relationships  and interactions.*\n",
    "\n",
    "### Scrum definition according to *[Scrum Allience](https://www.scrumalliance.org/about-scrum#!section1)*\n",
    "Scrum is a lightweight yet incredibly powerful set of values, principles, and practices. Scrum relies on cross-functional teams to deliver products and services in short cycles, enabling:\n",
    "\n",
    "- Fast feedback\n",
    "- Quicker innovation\n",
    "- Continuous improvement\n",
    "- Rapid adaptation to change\n",
    "- More delighted customers\n",
    "- Accelerated pace from idea to delivery\n",
    "\n",
    "### So, are Scrum and Agile the same?\n",
    "Agile is an umbrella term that refers to a family of approaches that share common *values and principles* (A.k.a: Agile Manifesto). Scrum is a commonly used agile framework that offers suggestions for how work can be organized to maximize value to the end-user.\n",
    "\n",
    "While scrum is implemented at a product development team level, agile has a focus on the entire organization including its leadership and company culture. Both are relatively easy to start down the path but difficult to master.\n",
    "\n",
    "```\n",
    "Scrum.equals(Agile) => false\n",
    "```\n",
    "\n",
    "### [Agile Manifesto](https://agilemanifesto.org/)\n",
    "#### Values:\n",
    "\"We are uncovering better ways of developing\n",
    "software by doing it and helping others do it.\n",
    "Through this work we have come to value:\n",
    "\n",
    "- Individuals and interactions over processes and tools\n",
    "- Working software over comprehensive documentation\n",
    "- Customer collaboration over contract negotiation\n",
    "- Responding to change over following a plan.\n",
    "\n",
    "That is, while there is value in the items on\n",
    "the right, we value the items on the left more.\"\n",
    "#### Principles\n",
    "[Agile Principles](https://agilemanifesto.org/principles.html)\n"
   ]
  },
  {
   "cell_type": "code",
   "execution_count": null,
   "id": "da1f368e",
   "metadata": {},
   "outputs": [],
   "source": []
  }
 ],
 "metadata": {
  "kernelspec": {
   "display_name": "Python 3",
   "language": "python",
   "name": "python3"
  },
  "language_info": {
   "codemirror_mode": {
    "name": "ipython",
    "version": 3
   },
   "file_extension": ".py",
   "mimetype": "text/x-python",
   "name": "python",
   "nbconvert_exporter": "python",
   "pygments_lexer": "ipython3",
   "version": "3.7.6"
  }
 },
 "nbformat": 4,
 "nbformat_minor": 5
}
